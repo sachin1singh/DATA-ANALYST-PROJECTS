{
 "cells": [
  {
   "cell_type": "code",
   "execution_count": 10,
   "metadata": {},
   "outputs": [],
   "source": [
    "from bs4 import BeautifulSoup\n",
    "import openpyxl\n",
    "\n",
    "# Read the HTML file\n",
    "with open(\"Amazon.html\", \"r\", encoding=\"utf-8\") as file:\n",
    "    html_content = file.read()\n",
    "\n",
    "# Parse HTML content with BeautifulSoup\n",
    "soup = BeautifulSoup(html_content, \"html.parser\")\n",
    "\n",
    "# Find all divs with specified class\n",
    "product_divs = soup.find_all(\"div\", class_=\"puis-card-container s-card-container s-overflow-hidden aok-relative puis-include-content-margin puis puis-v3e4zzjeea908l2c0qtoqr7pr8a s-latency-cf-section puis-card-border\")\n",
    "\n",
    "# Initialize lists to store data\n",
    "product_names = []\n",
    "product_prices = []\n",
    "product_reviews_list = []\n",
    "\n",
    "# Extract data from each div\n",
    "for div in product_divs:\n",
    "    # Find product name\n",
    "    product_name_span = div.find(\"span\", class_=\"a-size-medium a-color-base a-text-normal\")\n",
    "    product_name = product_name_span.get_text(strip=True) if product_name_span else \" \"\n",
    "    product_names.append(product_name)\n",
    "\n",
    "    # Find product price\n",
    "    product_price_span = div.find(\"span\", class_=\"a-price-whole\")\n",
    "    product_price = product_price_span.get_text(strip=True) if product_price_span else \" \"\n",
    "    product_prices.append(product_price)\n",
    "\n",
    "    # Find product reviews\n",
    "    product_reviews_span = div.find(\"span\", class_=\"a-icon-alt\")\n",
    "    product_reviews = product_reviews_span.get_text(strip=True) if product_reviews_span else \" \"\n",
    "    product_reviews_list.append(product_reviews)\n",
    "\n",
    "# Create an Excel workbook and write data\n",
    "wb = openpyxl.Workbook()\n",
    "ws = wb.active\n",
    "\n",
    "# Write headers\n",
    "ws.append([\"Product Name\", \"Product Price\", \"Product Reviews\"])\n",
    "\n",
    "# Write data row by row\n",
    "for name, price, reviews in zip(product_names, product_prices, product_reviews_list):\n",
    "    ws.append([name, price, reviews])\n",
    "\n",
    "# Save the Excel file\n",
    "wb.save(\"Amazon_Products.xlsx\")\n"
   ]
  },
  {
   "cell_type": "code",
   "execution_count": null,
   "metadata": {},
   "outputs": [],
   "source": []
  }
 ],
 "metadata": {
  "kernelspec": {
   "display_name": "Python 3",
   "language": "python",
   "name": "python3"
  },
  "language_info": {
   "codemirror_mode": {
    "name": "ipython",
    "version": 3
   },
   "file_extension": ".py",
   "mimetype": "text/x-python",
   "name": "python",
   "nbconvert_exporter": "python",
   "pygments_lexer": "ipython3",
   "version": "3.12.2"
  }
 },
 "nbformat": 4,
 "nbformat_minor": 2
}
